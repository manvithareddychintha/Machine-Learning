{
  "nbformat": 4,
  "nbformat_minor": 0,
  "metadata": {
    "colab": {
      "provenance": []
    },
    "kernelspec": {
      "name": "python3",
      "display_name": "Python 3"
    },
    "language_info": {
      "name": "python"
    }
  },
  "cells": [
    {
      "cell_type": "code",
      "execution_count": 18,
      "metadata": {
        "id": "tDl3a3j9bXvy"
      },
      "outputs": [],
      "source": [
        "import pandas as pd\n",
        "import numpy as np\n",
        "import matplotlib.pyplot as plt\n",
        "import seaborn as sns\n",
        "import plotly.express as px\n",
        "from sklearn.model_selection import train_test_split\n",
        "from sklearn.linear_model import LinearRegression\n",
        "from sklearn.metrics import r2_score, mean_squared_error, mean_absolute_error"
      ]
    },
    {
      "cell_type": "code",
      "source": [
        "import pandas as pd\n",
        "from sklearn.linear_model import LinearRegression\n",
        "from sklearn.metrics import r2_score, mean_squared_error, mean_absolute_error\n",
        "\n",
        "# Load training and testing datasets\n",
        "train_data = pd.read_csv('/content/sample_data/california_housing_train.csv')\n",
        "test_data = pd.read_csv('/content/sample_data/california_housing_test.csv')\n",
        "\n",
        "# Display info about test data\n",
        "print(\" Test Data Info:\")\n",
        "print(test_data.info())\n",
        "\n",
        "# Define features and target for training\n",
        "X_train = train_data.drop('median_house_value', axis=1)\n",
        "y_train = train_data['median_house_value']\n",
        "\n",
        "# Define features and target for testing\n",
        "X_test = test_data.drop('median_house_value', axis=1)\n",
        "y_test = test_data['median_house_value']\n",
        "\n",
        "# Create and train Linear Regression model\n",
        "model = LinearRegression()\n",
        "model.fit(X_train, y_train)\n",
        "\n",
        "# Make predictions on test set\n",
        "y_pred = model.predict(X_test)\n",
        "\n",
        "# Evaluate model performance\n",
        "print(\"\\n Model Evaluation Metrics:\")\n",
        "print(\"R² Score: {:.4f}\".format(r2_score(y_test, y_pred)))\n",
        "print(\"Mean Squared Error: {:.4f}\".format(mean_squared_error(y_test, y_pred)))\n",
        "print(\"Mean Absolute Error: {:.4f}\".format(mean_absolute_error(y_test, y_pred)))\n"
      ],
      "metadata": {
        "colab": {
          "base_uri": "https://localhost:8080/"
        },
        "id": "iXa3PcI_b9Z7",
        "outputId": "43850086-73e2-4b9a-ea07-f86eeea9389d"
      },
      "execution_count": 29,
      "outputs": [
        {
          "output_type": "stream",
          "name": "stdout",
          "text": [
            " Test Data Info:\n",
            "<class 'pandas.core.frame.DataFrame'>\n",
            "RangeIndex: 3000 entries, 0 to 2999\n",
            "Data columns (total 9 columns):\n",
            " #   Column              Non-Null Count  Dtype  \n",
            "---  ------              --------------  -----  \n",
            " 0   longitude           3000 non-null   float64\n",
            " 1   latitude            3000 non-null   float64\n",
            " 2   housing_median_age  3000 non-null   float64\n",
            " 3   total_rooms         3000 non-null   float64\n",
            " 4   total_bedrooms      3000 non-null   float64\n",
            " 5   population          3000 non-null   float64\n",
            " 6   households          3000 non-null   float64\n",
            " 7   median_income       3000 non-null   float64\n",
            " 8   median_house_value  3000 non-null   float64\n",
            "dtypes: float64(9)\n",
            "memory usage: 211.1 KB\n",
            "None\n",
            "\n",
            " Model Evaluation Metrics:\n",
            "R² Score: 0.6195\n",
            "Mean Squared Error: 4867205486.9288\n",
            "Mean Absolute Error: 50352.2283\n"
          ]
        }
      ]
    },
    {
      "cell_type": "markdown",
      "source": [
        "The dataset consists of 3,000 test samples with 9 numerical features, all of which are non-null and of type float64. The features represent geographic and demographic attributes such as longitude, latitude, housing age, total rooms, households, and median income, with the target variable being median_house_value.\n",
        "\n",
        "A Linear Regression model was trained to predict house prices. The model achieved an R² score of 0.6195, indicating that approximately 62% of the variance in house prices is explained by the model. While the model shows moderate predictive power, there is still room for improvement. The Mean Squared Error (MSE) is quite high at 4.87 billion, and the Mean Absolute Error (MAE) is approximately 50,352, suggesting the average prediction error is about $50K.\n",
        "\n",
        "These results suggest the model captures general trends but may benefit from enhancements such as feature engineering, regularization, or using more complex models like tree-based regressors."
      ],
      "metadata": {
        "id": "l-0oT-cj7Aas"
      }
    },
    {
      "cell_type": "code",
      "source": [
        "pip install ucimlrepo"
      ],
      "metadata": {
        "colab": {
          "base_uri": "https://localhost:8080/"
        },
        "id": "4Ghf3NI2lPab",
        "outputId": "e1e17e2a-7e92-48d7-f149-6721137a5797"
      },
      "execution_count": 21,
      "outputs": [
        {
          "output_type": "stream",
          "name": "stdout",
          "text": [
            "Collecting ucimlrepo\n",
            "  Downloading ucimlrepo-0.0.7-py3-none-any.whl.metadata (5.5 kB)\n",
            "Requirement already satisfied: pandas>=1.0.0 in /usr/local/lib/python3.11/dist-packages (from ucimlrepo) (2.2.2)\n",
            "Requirement already satisfied: certifi>=2020.12.5 in /usr/local/lib/python3.11/dist-packages (from ucimlrepo) (2025.4.26)\n",
            "Requirement already satisfied: numpy>=1.23.2 in /usr/local/lib/python3.11/dist-packages (from pandas>=1.0.0->ucimlrepo) (2.0.2)\n",
            "Requirement already satisfied: python-dateutil>=2.8.2 in /usr/local/lib/python3.11/dist-packages (from pandas>=1.0.0->ucimlrepo) (2.9.0.post0)\n",
            "Requirement already satisfied: pytz>=2020.1 in /usr/local/lib/python3.11/dist-packages (from pandas>=1.0.0->ucimlrepo) (2025.2)\n",
            "Requirement already satisfied: tzdata>=2022.7 in /usr/local/lib/python3.11/dist-packages (from pandas>=1.0.0->ucimlrepo) (2025.2)\n",
            "Requirement already satisfied: six>=1.5 in /usr/local/lib/python3.11/dist-packages (from python-dateutil>=2.8.2->pandas>=1.0.0->ucimlrepo) (1.17.0)\n",
            "Downloading ucimlrepo-0.0.7-py3-none-any.whl (8.0 kB)\n",
            "Installing collected packages: ucimlrepo\n",
            "Successfully installed ucimlrepo-0.0.7\n"
          ]
        }
      ]
    },
    {
      "cell_type": "code",
      "source": [
        "# 📦 Import necessary libraries\n",
        "from ucimlrepo import fetch_ucirepo\n",
        "import pandas as pd\n",
        "import numpy as np\n",
        "import seaborn as sns\n",
        "import matplotlib.pyplot as plt\n",
        "\n",
        "from sklearn.model_selection import train_test_split\n",
        "from sklearn.preprocessing import StandardScaler\n",
        "from sklearn.linear_model import LinearRegression\n",
        "from sklearn.metrics import r2_score, mean_squared_error, mean_absolute_error\n",
        "\n",
        "# Fetch the Wine Quality dataset from UCI Repository (ID: 186)\n",
        "wine_quality = fetch_ucirepo(id=186)\n",
        "\n",
        "# Extract features and target\n",
        "X = wine_quality.data.features\n",
        "y = wine_quality.data.targets\n",
        "\n",
        "# Check feature correlation with target\n",
        "corr = X.corrwith(y.squeeze())\n",
        "plt.figure(figsize=(10, 6))\n",
        "sns.barplot(x=corr.values, y=corr.index, palette=\"viridis\")\n",
        "plt.title(\"🔗 Feature Correlation with Wine Quality\", fontsize=14)\n",
        "plt.xlabel(\"Correlation\")\n",
        "plt.ylabel(\"Features\")\n",
        "plt.tight_layout()\n",
        "plt.show()\n",
        "\n",
        "# Train-Test Split\n",
        "X_train, X_test, y_train, y_test = train_test_split(X, y, test_size=0.2, random_state=42)\n",
        "\n",
        "#  Feature Scaling\n",
        "scaler = StandardScaler()\n",
        "X_train_scaled = scaler.fit_transform(X_train)\n",
        "X_test_scaled = scaler.transform(X_test)\n",
        "\n",
        "# Train a Linear Regression model\n",
        "model = LinearRegression()\n",
        "model.fit(X_train_scaled, y_train)\n",
        "\n",
        "#  Make predictions\n",
        "y_pred = model.predict(X_test_scaled)\n",
        "\n",
        "# Evaluate model performance\n",
        "print(\"\\n Linear Regression Model Performance:\")\n",
        "print(\"R² Score: {:.4f}\".format(r2_score(y_test, y_pred)))\n",
        "print(\"Mean Squared Error: {:.4f}\".format(mean_squared_error(y_test, y_pred)))\n",
        "print(\"Mean Absolute Error: {:.4f}\".format(mean_absolute_error(y_test, y_pred)))\n"
      ],
      "metadata": {
        "colab": {
          "base_uri": "https://localhost:8080/",
          "height": 870
        },
        "id": "2IG39cCB4uus",
        "outputId": "7764ccb5-51ab-4ef7-8295-77b05b79ed5b"
      },
      "execution_count": 30,
      "outputs": [
        {
          "output_type": "stream",
          "name": "stderr",
          "text": [
            "<ipython-input-30-1175575575>:23: FutureWarning: \n",
            "\n",
            "Passing `palette` without assigning `hue` is deprecated and will be removed in v0.14.0. Assign the `y` variable to `hue` and set `legend=False` for the same effect.\n",
            "\n",
            "  sns.barplot(x=corr.values, y=corr.index, palette=\"viridis\")\n",
            "<ipython-input-30-1175575575>:27: UserWarning: Glyph 128279 (\\N{LINK SYMBOL}) missing from font(s) DejaVu Sans.\n",
            "  plt.tight_layout()\n",
            "/usr/local/lib/python3.11/dist-packages/IPython/core/pylabtools.py:151: UserWarning: Glyph 128279 (\\N{LINK SYMBOL}) missing from font(s) DejaVu Sans.\n",
            "  fig.canvas.print_figure(bytes_io, **kw)\n"
          ]
        },
        {
          "output_type": "display_data",
          "data": {
            "text/plain": [
              "<Figure size 1000x600 with 1 Axes>"
            ],
            "image/png": "[encoded data removed]"
          },
          "metadata": {}
        },
        {
          "output_type": "stream",
          "name": "stdout",
          "text": [
            "\n",
            " Linear Regression Model Performance:\n",
            "R² Score: 0.2598\n",
            "Mean Squared Error: 0.5467\n",
            "Mean Absolute Error: 0.5659\n"
          ]
        }
      ]
    },
    {
      "cell_type": "markdown",
      "source": [
        "A Linear Regression model was trained to predict wine quality based on various physicochemical properties (e.g., acidity, sugar, pH, alcohol content). The model achieved an R² score of 0.2598, indicating that only 26% of the variance in wine quality is explained by the features used.\n",
        "\n",
        "The Mean Squared Error (MSE) was 0.5467, and the Mean Absolute Error (MAE) was 0.5659, suggesting that the model’s predictions differ from the actual wine quality by approximately 0.57 units on average.\n",
        "\n",
        "These results reflect the limitations of using a linear model for this task, likely due to the non-linear and subjective nature of wine quality ratings. Performance could be improved by exploring:\n",
        "\n",
        "Non-linear models (e.g., Random Forest, Gradient Boosting),\n",
        "\n",
        "Feature transformations (e.g., polynomial features), or\n",
        "\n",
        "Treating the task as a classification problem instead of regression.\n"
      ],
      "metadata": {
        "id": "-Szs1IgU68KE"
      }
    }
  ]
}